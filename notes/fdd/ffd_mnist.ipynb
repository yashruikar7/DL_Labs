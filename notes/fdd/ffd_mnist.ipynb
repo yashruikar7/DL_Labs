{
  "cells": [
    {
      "cell_type": "markdown",
      "id": "4b4b977b-f833-4e82-87ac-d32c6c244a16",
      "metadata": {
        "id": "4b4b977b-f833-4e82-87ac-d32c6c244a16"
      },
      "source": [
        "# Problem Statement 1\n",
        "### Feedforward neural network\n",
        "### Implementing Feedforward neural networks with Keras and TensorFlow for classification of hand-written MNIST dataset using below steps:\n",
        "        a. Import the necessary packages\n",
        "        b. Load the training and testing data\n",
        "        c. Define the network architecture using Keras\n",
        "        d. Train the model using SGD with 11 epochs\n",
        "        e. Evaluate the network\n",
        "        f. Plot the training loss and accuracy\n",
        "#### Implementation here"
      ]
    },
    {
      "cell_type": "markdown",
      "id": "3cb84f73-2965-47b6-8def-92a013a2961b",
      "metadata": {
        "id": "3cb84f73-2965-47b6-8def-92a013a2961b"
      },
      "source": [
        "### a. Import the necessary packages"
      ]
    },
    {
      "cell_type": "code",
      "execution_count": 38,
      "id": "a7e1069e-c5f6-44bf-80c1-68c3dd5284e6",
      "metadata": {
        "id": "a7e1069e-c5f6-44bf-80c1-68c3dd5284e6"
      },
      "outputs": [],
      "source": [
        "from sklearn.preprocessing import LabelBinarizer\n",
        "from sklearn.metrics import classification_report\n",
        "\n",
        "from tensorflow.keras.models import Sequential\n",
        "from tensorflow.keras.layers import Dense\n",
        "from tensorflow.keras.optimizers import SGD\n",
        "from tensorflow.keras.datasets import mnist\n",
        "from tensorflow.keras import backend as K\n",
        "\n",
        "import matplotlib.pyplot as plt\n",
        "import numpy as np"
      ]
    },
    {
      "cell_type": "markdown",
      "id": "8c8db7f4-4bac-4398-9fb8-f1bb042a8ae9",
      "metadata": {
        "id": "8c8db7f4-4bac-4398-9fb8-f1bb042a8ae9"
      },
      "source": [
        "### b. Load training and Testing data"
      ]
    },
    {
      "cell_type": "code",
      "execution_count": 39,
      "id": "7714cdbf-133c-4bbb-be51-085a2adcf4bb",
      "metadata": {
        "id": "7714cdbf-133c-4bbb-be51-085a2adcf4bb"
      },
      "outputs": [],
      "source": [
        "((X_train, Y_train),(x_test, y_test))=mnist.load_data()\n",
        "# X_train.shape"
      ]
    },
    {
      "cell_type": "code",
      "execution_count": 40,
      "id": "4555926f-5fda-4680-b09a-87836de61b33",
      "metadata": {
        "id": "4555926f-5fda-4680-b09a-87836de61b33"
      },
      "outputs": [],
      "source": [
        "# X_train.reshape((X_train.shape[0], -1)) flattens each image in the training set.\n",
        "# X_train.shape[0] is the number of samples in the training dataset, and -1 allows NumPy to infer the second dimension automatically based on the total size of the array. This results in each image being transformed from a 2D (e.g., 28x28 pixels) to a 1D vector (784 elements if it’s 28x28).\n",
        "# The same process is applied to x_test, flattening each image in the test set.\n",
        "\n",
        "X_train=X_train.reshape((X_train.shape[0], -1))\n",
        "x_test=x_test.reshape((x_test.shape[0], -1))\n",
        "X_train=X_train/255.0\n",
        "x_test=x_test/255.0\n",
        "# X_train.shape"
      ]
    },
    {
      "cell_type": "code",
      "execution_count": 41,
      "id": "9e20d686-5eee-4aa7-a466-c5ad1e342d9b",
      "metadata": {
        "id": "9e20d686-5eee-4aa7-a466-c5ad1e342d9b"
      },
      "outputs": [],
      "source": [
        "#  to encode the labels Y_train and y_test into a format suitable for training a neural network model, specifically a one-hot encoded format.\n",
        "#  lb.fit_transform(Y_train) does two things:\n",
        "# fit: It learns the unique classes present in Y_train (for example, for MNIST, it learns classes 0 through 9).\n",
        "# transform: It converts each class label in Y_train into a one-hot encoded vector. For example, if a label is 3 and there are 10 classes, it will be converted to [0, 0, 0, 1, 0, 0, 0, 0, 0, 0].\n",
        "lb=LabelBinarizer()\n",
        "\n",
        "Y_train=lb.fit_transform(Y_train)\n",
        "y_test=lb.transform(y_test)"
      ]
    },
    {
      "cell_type": "markdown",
      "id": "e9fc7ac9-781e-48d9-96d1-ecc20299641d",
      "metadata": {
        "id": "e9fc7ac9-781e-48d9-96d1-ecc20299641d"
      },
      "source": [
        "### c. Defining network architecture using Keras"
      ]
    },
    {
      "cell_type": "code",
      "execution_count": 42,
      "id": "98d7080b-1b15-4a41-8eba-2e00a4ef7dd6",
      "metadata": {
        "id": "98d7080b-1b15-4a41-8eba-2e00a4ef7dd6",
        "outputId": "caf4cfae-dc56-4025-9f04-347c80df8c4f",
        "colab": {
          "base_uri": "https://localhost:8080/"
        }
      },
      "outputs": [
        {
          "output_type": "stream",
          "name": "stderr",
          "text": [
            "/usr/local/lib/python3.10/dist-packages/keras/src/layers/core/dense.py:87: UserWarning: Do not pass an `input_shape`/`input_dim` argument to a layer. When using Sequential models, prefer using an `Input(shape)` object as the first layer in the model instead.\n",
            "  super().__init__(activity_regularizer=activity_regularizer, **kwargs)\n"
          ]
        }
      ],
      "source": [
        "# initialise model\n",
        "\n",
        "model=Sequential()\n",
        "model.add(Dense(128, input_shape=(784,),activation=\"sigmoid\"))\n",
        "model.add(Dense(64, activation=\"sigmoid\"))\n",
        "model.add(Dense(10, activation=\"softmax\"))"
      ]
    },
    {
      "cell_type": "markdown",
      "id": "c0a159b5-79df-4819-9a7b-dc08d912d127",
      "metadata": {
        "id": "c0a159b5-79df-4819-9a7b-dc08d912d127"
      },
      "source": [
        "### d. Train the model using SGD with 11 epochs"
      ]
    },
    {
      "cell_type": "code",
      "execution_count": 43,
      "id": "75e7c6ab-9591-4dcd-a41b-44421ed15539",
      "metadata": {
        "id": "75e7c6ab-9591-4dcd-a41b-44421ed15539",
        "outputId": "3ef9055a-330f-4096-9ace-bcabf04bb478",
        "colab": {
          "base_uri": "https://localhost:8080/"
        }
      },
      "outputs": [
        {
          "output_type": "stream",
          "name": "stdout",
          "text": [
            "Epoch 1/11\n",
            "\u001b[1m469/469\u001b[0m \u001b[32m━━━━━━━━━━━━━━━━━━━━\u001b[0m\u001b[37m\u001b[0m \u001b[1m3s\u001b[0m 4ms/step - accuracy: 0.1216 - loss: 2.3276 - val_accuracy: 0.2516 - val_loss: 2.2542\n",
            "Epoch 2/11\n",
            "\u001b[1m469/469\u001b[0m \u001b[32m━━━━━━━━━━━━━━━━━━━━\u001b[0m\u001b[37m\u001b[0m \u001b[1m2s\u001b[0m 4ms/step - accuracy: 0.2679 - loss: 2.2426 - val_accuracy: 0.4101 - val_loss: 2.1940\n",
            "Epoch 3/11\n",
            "\u001b[1m469/469\u001b[0m \u001b[32m━━━━━━━━━━━━━━━━━━━━\u001b[0m\u001b[37m\u001b[0m \u001b[1m3s\u001b[0m 4ms/step - accuracy: 0.4177 - loss: 2.1795 - val_accuracy: 0.4686 - val_loss: 2.1128\n",
            "Epoch 4/11\n",
            "\u001b[1m469/469\u001b[0m \u001b[32m━━━━━━━━━━━━━━━━━━━━\u001b[0m\u001b[37m\u001b[0m \u001b[1m2s\u001b[0m 4ms/step - accuracy: 0.4996 - loss: 2.0938 - val_accuracy: 0.5435 - val_loss: 1.9987\n",
            "Epoch 5/11\n",
            "\u001b[1m469/469\u001b[0m \u001b[32m━━━━━━━━━━━━━━━━━━━━\u001b[0m\u001b[37m\u001b[0m \u001b[1m4s\u001b[0m 7ms/step - accuracy: 0.5713 - loss: 1.9735 - val_accuracy: 0.6251 - val_loss: 1.8471\n",
            "Epoch 6/11\n",
            "\u001b[1m469/469\u001b[0m \u001b[32m━━━━━━━━━━━━━━━━━━━━\u001b[0m\u001b[37m\u001b[0m \u001b[1m4s\u001b[0m 4ms/step - accuracy: 0.6194 - loss: 1.8172 - val_accuracy: 0.6752 - val_loss: 1.6660\n",
            "Epoch 7/11\n",
            "\u001b[1m469/469\u001b[0m \u001b[32m━━━━━━━━━━━━━━━━━━━━\u001b[0m\u001b[37m\u001b[0m \u001b[1m3s\u001b[0m 4ms/step - accuracy: 0.6684 - loss: 1.6348 - val_accuracy: 0.7131 - val_loss: 1.4757\n",
            "Epoch 8/11\n",
            "\u001b[1m469/469\u001b[0m \u001b[32m━━━━━━━━━━━━━━━━━━━━\u001b[0m\u001b[37m\u001b[0m \u001b[1m2s\u001b[0m 4ms/step - accuracy: 0.7060 - loss: 1.4476 - val_accuracy: 0.7306 - val_loss: 1.2965\n",
            "Epoch 9/11\n",
            "\u001b[1m469/469\u001b[0m \u001b[32m━━━━━━━━━━━━━━━━━━━━\u001b[0m\u001b[37m\u001b[0m \u001b[1m2s\u001b[0m 4ms/step - accuracy: 0.7355 - loss: 1.2742 - val_accuracy: 0.7650 - val_loss: 1.1417\n",
            "Epoch 10/11\n",
            "\u001b[1m469/469\u001b[0m \u001b[32m━━━━━━━━━━━━━━━━━━━━\u001b[0m\u001b[37m\u001b[0m \u001b[1m4s\u001b[0m 7ms/step - accuracy: 0.7617 - loss: 1.1265 - val_accuracy: 0.7851 - val_loss: 1.0165\n",
            "Epoch 11/11\n",
            "\u001b[1m469/469\u001b[0m \u001b[32m━━━━━━━━━━━━━━━━━━━━\u001b[0m\u001b[37m\u001b[0m \u001b[1m4s\u001b[0m 4ms/step - accuracy: 0.7789 - loss: 1.0131 - val_accuracy: 0.7993 - val_loss: 0.9171\n"
          ]
        }
      ],
      "source": [
        "sgd=SGD(0.01)\n",
        "epochs=11\n",
        "model.compile(loss=\"categorical_crossentropy\", optimizer=sgd, metrics=[\"accuracy\"])\n",
        "H=model.fit(X_train, Y_train, validation_data=(x_test, y_test), epochs=epochs, batch_size=128)"
      ]
    },
    {
      "cell_type": "markdown",
      "id": "9be09a07-7842-4768-a921-8dea8fd3ef2d",
      "metadata": {
        "id": "9be09a07-7842-4768-a921-8dea8fd3ef2d"
      },
      "source": [
        "### e. Evaluate Network"
      ]
    },
    {
      "cell_type": "code",
      "execution_count": 44,
      "id": "f1d3b212-afa4-4d07-ad2d-1a320ddb989f",
      "metadata": {
        "id": "f1d3b212-afa4-4d07-ad2d-1a320ddb989f",
        "outputId": "b125eb41-c02e-4803-8d83-663ee9535760",
        "colab": {
          "base_uri": "https://localhost:8080/"
        }
      },
      "outputs": [
        {
          "output_type": "stream",
          "name": "stdout",
          "text": [
            "\u001b[1m79/79\u001b[0m \u001b[32m━━━━━━━━━━━━━━━━━━━━\u001b[0m\u001b[37m\u001b[0m \u001b[1m0s\u001b[0m 3ms/step\n",
            "              precision    recall  f1-score   support\n",
            "\n",
            "           0       0.85      0.97      0.90       980\n",
            "           1       0.80      0.98      0.88      1135\n",
            "           2       0.84      0.73      0.78      1032\n",
            "           3       0.75      0.82      0.78      1010\n",
            "           4       0.76      0.73      0.75       982\n",
            "           5       0.78      0.56      0.65       892\n",
            "           6       0.84      0.89      0.86       958\n",
            "           7       0.86      0.86      0.86      1028\n",
            "           8       0.82      0.66      0.73       974\n",
            "           9       0.70      0.74      0.72      1009\n",
            "\n",
            "    accuracy                           0.80     10000\n",
            "   macro avg       0.80      0.79      0.79     10000\n",
            "weighted avg       0.80      0.80      0.79     10000\n",
            "\n"
          ]
        }
      ],
      "source": [
        "predictions = model.predict(x_test, batch_size=128)\n",
        "print(classification_report(y_test.argmax(axis=1),predictions.argmax(axis=1),target_names=[str(x) for x in lb.classes_]))"
      ]
    },
    {
      "cell_type": "code",
      "source": [
        "test_loss,test_acc=model.evaluate(x_test,y_test)\n",
        "print(\"Loss=%.3f\"%test_loss)\n",
        "print(\"Accuracy=%.3f\"%test_acc)"
      ],
      "metadata": {
        "id": "Ep1VDYvtutZ_",
        "outputId": "092f14d4-ce17-4b56-8cf5-8124ad84b9a6",
        "colab": {
          "base_uri": "https://localhost:8080/"
        }
      },
      "id": "Ep1VDYvtutZ_",
      "execution_count": 49,
      "outputs": [
        {
          "output_type": "stream",
          "name": "stdout",
          "text": [
            "\u001b[1m313/313\u001b[0m \u001b[32m━━━━━━━━━━━━━━━━━━━━\u001b[0m\u001b[37m\u001b[0m \u001b[1m1s\u001b[0m 2ms/step - accuracy: 0.7739 - loss: 0.9644\n",
            "Loss=0.917\n",
            "Accuracy=0.799\n"
          ]
        }
      ]
    },
    {
      "cell_type": "markdown",
      "id": "a808447c-da51-418f-974a-7d8699d257cd",
      "metadata": {
        "id": "a808447c-da51-418f-974a-7d8699d257cd"
      },
      "source": [
        "### f. Plot training loss and accuracy"
      ]
    },
    {
      "cell_type": "code",
      "execution_count": 45,
      "id": "089a9cf1-d122-4b92-a932-22a61dffe8b7",
      "metadata": {
        "id": "089a9cf1-d122-4b92-a932-22a61dffe8b7",
        "outputId": "1da0ff62-83dd-4928-fbcb-f38bee403878",
        "colab": {
          "base_uri": "https://localhost:8080/",
          "height": 494
        }
      },
      "outputs": [
        {
          "output_type": "execute_result",
          "data": {
            "text/plain": [
              "[]"
            ]
          },
          "metadata": {},
          "execution_count": 45
        },
        {
          "output_type": "display_data",
          "data": {
            "text/plain": [
              "<Figure size 640x480 with 1 Axes>"
            ],
            "image/png": "[encoded data removed]"
          },
          "metadata": {}
        }
      ],
      "source": [
        "# H.history[\"loss\"] accesses the training loss recorded after each epoch from the model’s history (recorded by H = model.fit(...)).\n",
        "# H.history[\"val_loss\"] holds the validation loss for each epoch. This line plots the validation loss, providing insight into how well the model generalizes to unseen data.\n",
        "\n",
        "plt.style.use(\"ggplot\")\n",
        "plt.figure()\n",
        "\n",
        "plt.plot(np.arange(0,epochs), H.history[\"loss\"], label=\"train_loss\")\n",
        "plt.plot(np.arange(0,epochs), H.history[\"val_loss\"], label=\"val_loss\")\n",
        "plt.plot(np.arange(0,epochs), H.history[\"accuracy\"], label=\"accuracy\")\n",
        "plt.plot(np.arange(0,epochs), H.history[\"val_accuracy\"], label=\"val_acc\")\n",
        "\n",
        "plt.title(\"Training loss and accuracy\")\n",
        "plt.xlabel(\"Epoch #\")\n",
        "plt.ylabel(\"Loss / Accuracy\")\n",
        "plt.legend()\n",
        "plt.plot()"
      ]
    },
    {
      "cell_type": "code",
      "execution_count": null,
      "id": "dc11ef47-daf3-432f-a206-feb67576f6b2",
      "metadata": {
        "id": "dc11ef47-daf3-432f-a206-feb67576f6b2"
      },
      "outputs": [],
      "source": []
    }
  ],
  "metadata": {
    "kernelspec": {
      "display_name": "virtual_kernel",
      "language": "python",
      "name": "virtual_kernel"
    },
    "language_info": {
      "codemirror_mode": {
        "name": "ipython",
        "version": 3
      },
      "file_extension": ".py",
      "mimetype": "text/x-python",
      "name": "python",
      "nbconvert_exporter": "python",
      "pygments_lexer": "ipython3",
      "version": "3.11.5"
    },
    "colab": {
      "provenance": []
    }
  },
  "nbformat": 4,
  "nbformat_minor": 5
}